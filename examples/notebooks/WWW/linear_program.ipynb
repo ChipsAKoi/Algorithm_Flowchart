{
  "cells": [
    {
      "cell_type": "markdown",
      "metadata": {
        "id": "PVQOJPdoS2e3"
      },
      "source": [
        "# Linear program"
      ]
    },
    {
      "cell_type": "markdown",
      "metadata": {
        "id": "PllLKPojS2e4"
      },
      "source": [
        "A linear program is an optimization problem with a linear objective and affine inequality constraints. A common standard form is the following:\n",
        "$$  \n",
        "    \\begin{array}{ll}\n",
        "    \\mbox{minimize}   & c^Tx \\\\\n",
        "    \\mbox{subject to} & Ax \\leq b.\n",
        "    \\end{array}\n",
        "$$\n",
        "Here $A \\in \\mathcal{R}^{m \\times n}$, $b \\in \\mathcal{R}^m$, and $c \\in \\mathcal{R}^n$ are problem data and $x \\in \\mathcal{R}^{n}$ is the optimization variable. The inequality constraint $Ax \\leq b$ is elementwise.\n",
        "\n",
        "For example, we might have $n$ different products, each constructed out of $m$ components. Each entry $A_{ij}$ is the amount of component $i$ required to build one unit of product $j$. Each entry $b_i$ is the total amount of component $i$ available. We lose $c_j$ for each unit of product $j$ ($c_j < 0$ indicates profit). Our goal then is to choose how many units of each product $j$ to make, $x_j$, in order to minimize loss without exceeding our budget for any component.\n",
        "\n",
        "In addition to a solution $x^\\star$, we obtain a dual solution $\\lambda^\\star$. A positive entry $\\lambda^\\star_i$ indicates that the constraint $a_i^Tx \\leq b_i$ holds with equality for $x^\\star$ and suggests that changing $b_i$ would change the optimal value."
      ]
    },
    {
      "cell_type": "markdown",
      "metadata": {
        "id": "3ICwEXcfS2e4"
      },
      "source": [
        "## Example"
      ]
    },
    {
      "cell_type": "markdown",
      "metadata": {
        "id": "PMKFttPNS2e5"
      },
      "source": [
        "In the following code, we solve a linear program with CVXPY."
      ]
    },
    {
      "cell_type": "code",
      "execution_count": 17,
      "metadata": {
        "colab": {
          "base_uri": "https://localhost:8080/"
        },
        "id": "jUNYRKiqS2e5",
        "outputId": "a9afa0e6-5a9d-4010-9221-e7836cc33c95"
      },
      "outputs": [
        {
          "output_type": "stream",
          "name": "stdout",
          "text": [
            "\n",
            "The optimal value is 2.500000000082598\n",
            "Optimal solution for x, y, z: 1.0000000000712095, 1.0000000000162619, 0.49999999999512634\n"
          ]
        }
      ],
      "source": [
        "import cvxpy as cp\n",
        "\n",
        "x = cp.Variable()\n",
        "y = cp.Variable()\n",
        "z = cp.Variable()\n",
        "\n",
        "objective = cp.Maximize(x + y + z)\n",
        "\n",
        "constraints = [\n",
        "    y - z >= 0.5,\n",
        "    x - y + z >= 0.5,\n",
        "    x >= 0,\n",
        "    x <= 1,\n",
        "    y >= 0,\n",
        "    y <= 1,\n",
        "    z >= 0,\n",
        "    z <= 1,\n",
        "]\n",
        "\n",
        "# Define and solve the problem\n",
        "prob = cp.Problem(objective, constraints)\n",
        "prob.solve()\n",
        "\n",
        "# Print results\n",
        "print(\"\\nThe optimal value is\", prob.value)\n",
        "print(f\"Optimal solution for x, y, z: {x.value}, {y.value}, {z.value}\")"
      ]
    }
  ],
  "metadata": {
    "kernelspec": {
      "display_name": "Python 3",
      "language": "python",
      "name": "python3"
    },
    "language_info": {
      "codemirror_mode": {
        "name": "ipython",
        "version": 3
      },
      "file_extension": ".py",
      "mimetype": "text/x-python",
      "name": "python",
      "nbconvert_exporter": "python",
      "pygments_lexer": "ipython3",
      "version": "3.5.2"
    },
    "colab": {
      "provenance": []
    }
  },
  "nbformat": 4,
  "nbformat_minor": 0
}